{
 "cells": [
  {
   "cell_type": "code",
   "execution_count": 1,
   "id": "6908ac9c",
   "metadata": {},
   "outputs": [],
   "source": [
    "# !pip3 install pyarrow pillow --upgrade --user\n",
    "import pyarrow.parquet as pq\n",
    "from datasets import Dataset\n",
    "import pandas as pd\n",
    "import os"
   ]
  },
  {
   "cell_type": "code",
   "execution_count": 2,
   "id": "f6f3e4c3",
   "metadata": {},
   "outputs": [
    {
     "data": {
      "text/plain": [
       "Dataset({\n",
       "    features: ['image_file_path', 'image', 'labels'],\n",
       "    num_rows: 1034\n",
       "})"
      ]
     },
     "execution_count": 2,
     "metadata": {},
     "output_type": "execute_result"
    }
   ],
   "source": [
    "# Load the Arrow data to a Dataset\n",
    "\n",
    "current_directory = os.getcwd()\n",
    "\n",
    "dataset_train = Dataset.from_file(os.path.join(current_directory, \"raw\\\\train\\\\\") + \"data-00000-of-00001.arrow\")\n",
    "\n",
    "dataset_validation = Dataset.from_file(os.path.join(current_directory, \"raw\\\\validation\\\\\") + \"data-00000-of-00001.arrow\")\n",
    "\n",
    "dataset_test = Dataset.from_file(os.path.join(current_directory, \"raw\\\\test\\\\\") + \"data-00000-of-00001.arrow\")\n",
    "\n",
    "dataset_train"
   ]
  },
  {
   "cell_type": "code",
   "execution_count": 5,
   "id": "f409f240",
   "metadata": {},
   "outputs": [],
   "source": [
    "import torch\n",
    "from torch.utils.data import Dataset, DataLoader\n",
    "from torchvision import transforms, models\n",
    "import torch.nn as nn\n",
    "\n",
    "torch.manual_seed(0)\n",
    "torch.backends.cudnn.deterministic = True\n",
    "torch.backends.cudnn.benchmark = False\n",
    "\n",
    "class CustomDataset(Dataset):\n",
    "    def __init__(self, dataset):\n",
    "        self.data = dataset\n",
    "        self.transform = transforms.Compose([\n",
    "            transforms.Resize((500,500)),  # Resize to our desired size\n",
    "            transforms.ToTensor(),          # Convert PIL Image to PyTorch tensor\n",
    "            transforms.Normalize(mean=[0.485, 0.456, 0.406], std=[0.229, 0.224, 0.225]),  # Normalize RGB channels\n",
    "        ])\n",
    "\n",
    "    def __len__(self):\n",
    "        return len(self.data)\n",
    "\n",
    "    def __getitem__(self, idx):\n",
    "        sample = self.data[idx]\n",
    "        image = self.transform(sample['image'])\n",
    "        label = sample['labels']\n",
    "\n",
    "        return image, label\n",
    "    \n",
    "\n",
    "custom_train = CustomDataset(dataset_train)\n",
    "custom_validation = CustomDataset(dataset_validation)\n",
    "custom_test = CustomDataset(dataset_test)\n",
    "\n",
    "# Create a DataLoader for training, validation and test\n",
    "train_loader = DataLoader(custom_train, batch_size=32, shuffle=True)    \n",
    "validation_loader = DataLoader(custom_validation, batch_size=32, shuffle=False)\n",
    "test_loader = DataLoader(custom_test, batch_size=32, shuffle=False)"
   ]
  },
  {
   "cell_type": "code",
   "execution_count": 6,
   "id": "e647abfe",
   "metadata": {},
   "outputs": [],
   "source": [
    "# Create the directory if it doesn't exist\n",
    "if not os.path.exists('dataloaders'):\n",
    "    os.makedirs('dataloaders')\n",
    "\n",
    "# Save the DataLoader to a file\n",
    "torch.save(train_loader, 'dataloaders/train_loader.pt')\n",
    "torch.save(validation_loader, 'dataloaders/validation_loader.pt')\n",
    "torch.save(test_loader, 'dataloaders/test_loader.pt')\n"
   ]
  }
 ],
 "metadata": {
  "kernelspec": {
   "display_name": "Python 3 (ipykernel)",
   "language": "python",
   "name": "python3"
  },
  "language_info": {
   "codemirror_mode": {
    "name": "ipython",
    "version": 3
   },
   "file_extension": ".py",
   "mimetype": "text/x-python",
   "name": "python",
   "nbconvert_exporter": "python",
   "pygments_lexer": "ipython3",
   "version": "3.9.13"
  }
 },
 "nbformat": 4,
 "nbformat_minor": 5
}
